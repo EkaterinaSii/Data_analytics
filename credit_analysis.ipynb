{
 "cells": [
  {
   "cell_type": "code",
   "execution_count": 236,
   "id": "846bff53-5dba-44da-9203-e809c53b2ebb",
   "metadata": {},
   "outputs": [],
   "source": [
    "import pandas as pd\n",
    "import numpy as np\n",
    "import matplotlib.pyplot as plt\n",
    "\n",
    "from sklearn.preprocessing import MinMaxScaler\n",
    "from sklearn.linear_model import LogisticRegression\n",
    "from sklearn.ensemble import RandomForestClassifier\n",
    "from sklearn.metrics import classification_report,confusion_matrix\n",
    "from sklearn.preprocessing import LabelEncoder\n",
    "from sklearn.model_selection import train_test_split\n",
    "from sklearn.metrics import r2_score\n",
    "from sklearn.metrics import mean_absolute_error\n",
    "from sklearn.feature_selection import RFE\n",
    "from sklearn.feature_selection import SelectKBest\n",
    "from sklearn.feature_selection import chi2\n",
    "\n",
    "pd.set_option('display.max_rows', 1000)\n",
    "pd.set_option('display.max_columns', 500)\n",
    "pd.set_option('display.width', 1000)\n",
    "pd.set_option('display.max_colwidth', 1000)"
   ]
  },
  {
   "cell_type": "markdown",
   "id": "f164ff0f-726c-42d4-b3b8-1916c6e68219",
   "metadata": {},
   "source": [
    "* Download the dataset\n",
    "* Read the data information\n",
    "* Read the description of dataset"
   ]
  },
  {
   "cell_type": "code",
   "execution_count": 237,
   "id": "28602065-23c5-42cf-b9f0-91afcc585410",
   "metadata": {},
   "outputs": [
    {
     "data": {
      "text/html": [
       "<div>\n",
       "<style scoped>\n",
       "    .dataframe tbody tr th:only-of-type {\n",
       "        vertical-align: middle;\n",
       "    }\n",
       "\n",
       "    .dataframe tbody tr th {\n",
       "        vertical-align: top;\n",
       "    }\n",
       "\n",
       "    .dataframe thead th {\n",
       "        text-align: right;\n",
       "    }\n",
       "</style>\n",
       "<table border=\"1\" class=\"dataframe\">\n",
       "  <thead>\n",
       "    <tr style=\"text-align: right;\">\n",
       "      <th></th>\n",
       "      <th>Gender</th>\n",
       "      <th>Married</th>\n",
       "      <th>Dependents</th>\n",
       "      <th>Education</th>\n",
       "      <th>Self_Employed</th>\n",
       "      <th>Applicant_Income</th>\n",
       "      <th>Coapplicant_Income</th>\n",
       "      <th>Loan_Amount</th>\n",
       "      <th>Term</th>\n",
       "      <th>Credit_History</th>\n",
       "      <th>Area</th>\n",
       "      <th>Status</th>\n",
       "    </tr>\n",
       "  </thead>\n",
       "  <tbody>\n",
       "    <tr>\n",
       "      <th>0</th>\n",
       "      <td>Male</td>\n",
       "      <td>No</td>\n",
       "      <td>0</td>\n",
       "      <td>Graduate</td>\n",
       "      <td>No</td>\n",
       "      <td>584900</td>\n",
       "      <td>0.0</td>\n",
       "      <td>15000000</td>\n",
       "      <td>360.0</td>\n",
       "      <td>1.0</td>\n",
       "      <td>Urban</td>\n",
       "      <td>Y</td>\n",
       "    </tr>\n",
       "    <tr>\n",
       "      <th>1</th>\n",
       "      <td>Male</td>\n",
       "      <td>Yes</td>\n",
       "      <td>1</td>\n",
       "      <td>Graduate</td>\n",
       "      <td>No</td>\n",
       "      <td>458300</td>\n",
       "      <td>150800.0</td>\n",
       "      <td>12800000</td>\n",
       "      <td>360.0</td>\n",
       "      <td>1.0</td>\n",
       "      <td>Rural</td>\n",
       "      <td>N</td>\n",
       "    </tr>\n",
       "    <tr>\n",
       "      <th>2</th>\n",
       "      <td>Male</td>\n",
       "      <td>Yes</td>\n",
       "      <td>0</td>\n",
       "      <td>Graduate</td>\n",
       "      <td>Yes</td>\n",
       "      <td>300000</td>\n",
       "      <td>0.0</td>\n",
       "      <td>6600000</td>\n",
       "      <td>360.0</td>\n",
       "      <td>1.0</td>\n",
       "      <td>Urban</td>\n",
       "      <td>Y</td>\n",
       "    </tr>\n",
       "    <tr>\n",
       "      <th>3</th>\n",
       "      <td>Male</td>\n",
       "      <td>Yes</td>\n",
       "      <td>0</td>\n",
       "      <td>Not Graduate</td>\n",
       "      <td>No</td>\n",
       "      <td>258300</td>\n",
       "      <td>235800.0</td>\n",
       "      <td>12000000</td>\n",
       "      <td>360.0</td>\n",
       "      <td>1.0</td>\n",
       "      <td>Urban</td>\n",
       "      <td>Y</td>\n",
       "    </tr>\n",
       "    <tr>\n",
       "      <th>4</th>\n",
       "      <td>Male</td>\n",
       "      <td>No</td>\n",
       "      <td>0</td>\n",
       "      <td>Graduate</td>\n",
       "      <td>No</td>\n",
       "      <td>600000</td>\n",
       "      <td>0.0</td>\n",
       "      <td>14100000</td>\n",
       "      <td>360.0</td>\n",
       "      <td>1.0</td>\n",
       "      <td>Urban</td>\n",
       "      <td>Y</td>\n",
       "    </tr>\n",
       "  </tbody>\n",
       "</table>\n",
       "</div>"
      ],
      "text/plain": [
       "  Gender Married Dependents     Education Self_Employed  Applicant_Income  Coapplicant_Income  Loan_Amount   Term  Credit_History   Area Status\n",
       "0   Male      No          0      Graduate            No            584900                 0.0     15000000  360.0             1.0  Urban      Y\n",
       "1   Male     Yes          1      Graduate            No            458300            150800.0     12800000  360.0             1.0  Rural      N\n",
       "2   Male     Yes          0      Graduate           Yes            300000                 0.0      6600000  360.0             1.0  Urban      Y\n",
       "3   Male     Yes          0  Not Graduate            No            258300            235800.0     12000000  360.0             1.0  Urban      Y\n",
       "4   Male      No          0      Graduate            No            600000                 0.0     14100000  360.0             1.0  Urban      Y"
      ]
     },
     "execution_count": 237,
     "metadata": {},
     "output_type": "execute_result"
    }
   ],
   "source": [
    "data = pd.read_csv('finaltask.csv')\n",
    "data.head()"
   ]
  },
  {
   "cell_type": "code",
   "execution_count": 238,
   "id": "1fcaedc4-7646-42b4-b067-564d9a2b6657",
   "metadata": {},
   "outputs": [
    {
     "data": {
      "text/plain": [
       "Gender                13\n",
       "Married                3\n",
       "Dependents            15\n",
       "Education              0\n",
       "Self_Employed         32\n",
       "Applicant_Income       0\n",
       "Coapplicant_Income     0\n",
       "Loan_Amount            0\n",
       "Term                  14\n",
       "Credit_History        50\n",
       "Area                   0\n",
       "Status                 0\n",
       "dtype: int64"
      ]
     },
     "execution_count": 238,
     "metadata": {},
     "output_type": "execute_result"
    }
   ],
   "source": [
    "data.isna().sum()"
   ]
  },
  {
   "cell_type": "code",
   "execution_count": 239,
   "id": "ab71ed68-36ed-484e-a0f5-fedcdc6b5761",
   "metadata": {},
   "outputs": [
    {
     "data": {
      "text/plain": [
       "360.0    512\n",
       "180.0     44\n",
       "480.0     15\n",
       "300.0     13\n",
       "240.0      4\n",
       "84.0       4\n",
       "120.0      3\n",
       "60.0       2\n",
       "36.0       2\n",
       "12.0       1\n",
       "Name: Term, dtype: int64"
      ]
     },
     "execution_count": 239,
     "metadata": {},
     "output_type": "execute_result"
    }
   ],
   "source": [
    "data.Term.value_counts()"
   ]
  },
  {
   "cell_type": "markdown",
   "id": "735292da-1320-4986-a3b5-2f0f74d9d742",
   "metadata": {},
   "source": [
    "#### Removing outliers"
   ]
  },
  {
   "cell_type": "code",
   "execution_count": 240,
   "id": "63cb1e55-a5b1-4b15-a975-b555cfe9615b",
   "metadata": {},
   "outputs": [],
   "source": [
    "def remove_outliers(column):\n",
    "    Q1 = column.quantile(0.25)\n",
    "    Q3 = column.quantile(0.75)\n",
    "    IQR = Q3 - Q1\n",
    "    return column[(column >= Q1 - 3 * IQR) & (column <= Q3 + 3 * IQR)]\n",
    "\n",
    "for col in data.select_dtypes(include=['int64', 'float64']):\n",
    "    if col != 'Term':\n",
    "        data[col] = remove_outliers(data[col])"
   ]
  },
  {
   "cell_type": "code",
   "execution_count": 241,
   "id": "efccff55-daea-4d04-8faf-cee23bfca753",
   "metadata": {},
   "outputs": [
    {
     "data": {
      "text/plain": [
       "360.0    512\n",
       "180.0     44\n",
       "480.0     15\n",
       "300.0     13\n",
       "240.0      4\n",
       "84.0       4\n",
       "120.0      3\n",
       "60.0       2\n",
       "36.0       2\n",
       "12.0       1\n",
       "Name: Term, dtype: int64"
      ]
     },
     "execution_count": 241,
     "metadata": {},
     "output_type": "execute_result"
    }
   ],
   "source": [
    "data.Term.value_counts()"
   ]
  },
  {
   "cell_type": "code",
   "execution_count": 242,
   "id": "39fb3169-bfe9-4551-8183-0331a35023fd",
   "metadata": {},
   "outputs": [
    {
     "data": {
      "text/plain": [
       "Gender                 13\n",
       "Married                 3\n",
       "Dependents             15\n",
       "Education               0\n",
       "Self_Employed          32\n",
       "Applicant_Income       32\n",
       "Coapplicant_Income      6\n",
       "Loan_Amount            18\n",
       "Term                   14\n",
       "Credit_History        139\n",
       "Area                    0\n",
       "Status                  0\n",
       "dtype: int64"
      ]
     },
     "execution_count": 242,
     "metadata": {},
     "output_type": "execute_result"
    }
   ],
   "source": [
    "data.isna().sum()"
   ]
  },
  {
   "cell_type": "markdown",
   "id": "beba4ebf-3e6c-44d9-b5c9-685a08faf58b",
   "metadata": {},
   "source": [
    "#### Filling NaN"
   ]
  },
  {
   "cell_type": "markdown",
   "id": "07dad6b0-fa3c-4eb2-b507-dba8b31db6d5",
   "metadata": {},
   "source": [
    "#### For Crefit History. \n",
    "##### I suggested that this factor plays a huge role and since we have 139 out of 614. I want to fill NaN of Credit_History depending on the Status of the loan. If it was accepted, the Credit_History == 1, If it was dclined, the Credit_History == 0"
   ]
  },
  {
   "cell_type": "code",
   "execution_count": 243,
   "id": "467aff9c-d5d9-4671-a085-fe33c5eab999",
   "metadata": {},
   "outputs": [
    {
     "data": {
      "text/html": [
       "<div>\n",
       "<style scoped>\n",
       "    .dataframe tbody tr th:only-of-type {\n",
       "        vertical-align: middle;\n",
       "    }\n",
       "\n",
       "    .dataframe tbody tr th {\n",
       "        vertical-align: top;\n",
       "    }\n",
       "\n",
       "    .dataframe thead th {\n",
       "        text-align: right;\n",
       "    }\n",
       "</style>\n",
       "<table border=\"1\" class=\"dataframe\">\n",
       "  <thead>\n",
       "    <tr style=\"text-align: right;\">\n",
       "      <th></th>\n",
       "      <th>Gender</th>\n",
       "      <th>Married</th>\n",
       "      <th>Dependents</th>\n",
       "      <th>Education</th>\n",
       "      <th>Self_Employed</th>\n",
       "      <th>Applicant_Income</th>\n",
       "      <th>Coapplicant_Income</th>\n",
       "      <th>Loan_Amount</th>\n",
       "      <th>Term</th>\n",
       "      <th>Credit_History</th>\n",
       "      <th>Area</th>\n",
       "      <th>Status</th>\n",
       "    </tr>\n",
       "  </thead>\n",
       "  <tbody>\n",
       "    <tr>\n",
       "      <th>7</th>\n",
       "      <td>Male</td>\n",
       "      <td>Yes</td>\n",
       "      <td>3+</td>\n",
       "      <td>Graduate</td>\n",
       "      <td>No</td>\n",
       "      <td>303600.0</td>\n",
       "      <td>250400.0</td>\n",
       "      <td>15800000.0</td>\n",
       "      <td>360.0</td>\n",
       "      <td>NaN</td>\n",
       "      <td>Semiurban</td>\n",
       "      <td>N</td>\n",
       "    </tr>\n",
       "  </tbody>\n",
       "</table>\n",
       "</div>"
      ],
      "text/plain": [
       "  Gender Married Dependents Education Self_Employed  Applicant_Income  Coapplicant_Income  Loan_Amount   Term  Credit_History       Area Status\n",
       "7   Male     Yes         3+  Graduate            No          303600.0            250400.0   15800000.0  360.0             NaN  Semiurban      N"
      ]
     },
     "execution_count": 243,
     "metadata": {},
     "output_type": "execute_result"
    }
   ],
   "source": [
    "credit = data[data.Credit_History != 1.0]\n",
    "credit = credit[credit.Credit_History  != 0.0]\n",
    "credit.head(1)"
   ]
  },
  {
   "cell_type": "code",
   "execution_count": 244,
   "id": "b9c0beb7-18ab-4aef-b432-cca214a7cb1b",
   "metadata": {},
   "outputs": [],
   "source": [
    "data.Credit_History = data.Credit_History.fillna(data.Status.apply(lambda x: 1 if x == 'Y' else 0))"
   ]
  },
  {
   "cell_type": "code",
   "execution_count": 245,
   "id": "7ce48890-776c-4f34-a24d-982722d380b4",
   "metadata": {},
   "outputs": [],
   "source": [
    "# Dependents - get the most popular aka 0\n",
    "data.Dependents.replace(np.NaN,'0',inplace=True)\n",
    "# Self_Employed - get the most popular aka 0\n",
    "data.Self_Employed.replace(np.NaN,'No',inplace=True)\n",
    "# Term - get the most popular aka 360.0\n",
    "data.Term.replace(np.NaN,360.0, inplace=True)\n",
    "# Applicant_Income - median\n",
    "data.Applicant_Income.fillna(data.Applicant_Income.median(),inplace=True)\n",
    "# Loan_Amount - median\n",
    "data.Loan_Amount.fillna(data.Loan_Amount.median(),inplace=True)\n",
    "# Coapplicant_Income - median\n",
    "data.Coapplicant_Income.fillna(data.Coapplicant_Income.median(),inplace=True)"
   ]
  },
  {
   "cell_type": "code",
   "execution_count": 246,
   "id": "350650f3-e216-4a34-8d8a-2c3487acaec1",
   "metadata": {},
   "outputs": [
    {
     "data": {
      "text/plain": [
       "Gender                13\n",
       "Married                3\n",
       "Dependents             0\n",
       "Education              0\n",
       "Self_Employed          0\n",
       "Applicant_Income       0\n",
       "Coapplicant_Income     0\n",
       "Loan_Amount            0\n",
       "Term                   0\n",
       "Credit_History         0\n",
       "Area                   0\n",
       "Status                 0\n",
       "dtype: int64"
      ]
     },
     "execution_count": 246,
     "metadata": {},
     "output_type": "execute_result"
    }
   ],
   "source": [
    "# Other columns will be filled while Encoding\n",
    "data.isna().sum()"
   ]
  },
  {
   "cell_type": "code",
   "execution_count": 247,
   "id": "a8dacca1-b510-4a80-9e4c-0908e6f22655",
   "metadata": {},
   "outputs": [
    {
     "data": {
      "text/html": [
       "<div>\n",
       "<style scoped>\n",
       "    .dataframe tbody tr th:only-of-type {\n",
       "        vertical-align: middle;\n",
       "    }\n",
       "\n",
       "    .dataframe tbody tr th {\n",
       "        vertical-align: top;\n",
       "    }\n",
       "\n",
       "    .dataframe thead th {\n",
       "        text-align: right;\n",
       "    }\n",
       "</style>\n",
       "<table border=\"1\" class=\"dataframe\">\n",
       "  <thead>\n",
       "    <tr style=\"text-align: right;\">\n",
       "      <th></th>\n",
       "      <th>Gender</th>\n",
       "      <th>Married</th>\n",
       "      <th>Dependents</th>\n",
       "      <th>Education</th>\n",
       "      <th>Self_Employed</th>\n",
       "      <th>Applicant_Income</th>\n",
       "      <th>Coapplicant_Income</th>\n",
       "      <th>Loan_Amount</th>\n",
       "      <th>Term</th>\n",
       "      <th>Credit_History</th>\n",
       "      <th>Area</th>\n",
       "      <th>Status</th>\n",
       "    </tr>\n",
       "  </thead>\n",
       "  <tbody>\n",
       "    <tr>\n",
       "      <th>0</th>\n",
       "      <td>Male</td>\n",
       "      <td>No</td>\n",
       "      <td>0</td>\n",
       "      <td>Graduate</td>\n",
       "      <td>No</td>\n",
       "      <td>584900.0</td>\n",
       "      <td>0.0</td>\n",
       "      <td>15000000.0</td>\n",
       "      <td>360.0</td>\n",
       "      <td>1.0</td>\n",
       "      <td>Urban</td>\n",
       "      <td>Y</td>\n",
       "    </tr>\n",
       "  </tbody>\n",
       "</table>\n",
       "</div>"
      ],
      "text/plain": [
       "  Gender Married Dependents Education Self_Employed  Applicant_Income  Coapplicant_Income  Loan_Amount   Term  Credit_History   Area Status\n",
       "0   Male      No          0  Graduate            No          584900.0                 0.0   15000000.0  360.0             1.0  Urban      Y"
      ]
     },
     "execution_count": 247,
     "metadata": {},
     "output_type": "execute_result"
    }
   ],
   "source": [
    "data.head(1)"
   ]
  },
  {
   "cell_type": "markdown",
   "id": "d98abcd0-65eb-431d-a970-73d976cc7c9a",
   "metadata": {},
   "source": [
    "#### Encoding data"
   ]
  },
  {
   "cell_type": "code",
   "execution_count": 248,
   "id": "8c0af672-c03b-4173-ac11-ee86844bac39",
   "metadata": {},
   "outputs": [],
   "source": [
    "col = ['Gender','Married','Dependents','Education','Self_Employed','Term','Area','Status']\n",
    "\n",
    "encoder = LabelEncoder()\n",
    "for i in col:\n",
    "    data[i] = encoder.fit_transform(data[i].values)"
   ]
  },
  {
   "cell_type": "code",
   "execution_count": 249,
   "id": "0257e1e1-35ca-4d7f-bdc0-8b26646cbc1d",
   "metadata": {},
   "outputs": [
    {
     "data": {
      "text/html": [
       "<div>\n",
       "<style scoped>\n",
       "    .dataframe tbody tr th:only-of-type {\n",
       "        vertical-align: middle;\n",
       "    }\n",
       "\n",
       "    .dataframe tbody tr th {\n",
       "        vertical-align: top;\n",
       "    }\n",
       "\n",
       "    .dataframe thead th {\n",
       "        text-align: right;\n",
       "    }\n",
       "</style>\n",
       "<table border=\"1\" class=\"dataframe\">\n",
       "  <thead>\n",
       "    <tr style=\"text-align: right;\">\n",
       "      <th></th>\n",
       "      <th>Gender</th>\n",
       "      <th>Married</th>\n",
       "      <th>Dependents</th>\n",
       "      <th>Education</th>\n",
       "      <th>Self_Employed</th>\n",
       "      <th>Applicant_Income</th>\n",
       "      <th>Coapplicant_Income</th>\n",
       "      <th>Loan_Amount</th>\n",
       "      <th>Term</th>\n",
       "      <th>Credit_History</th>\n",
       "      <th>Area</th>\n",
       "      <th>Status</th>\n",
       "    </tr>\n",
       "  </thead>\n",
       "  <tbody>\n",
       "    <tr>\n",
       "      <th>0</th>\n",
       "      <td>1</td>\n",
       "      <td>0</td>\n",
       "      <td>0</td>\n",
       "      <td>0</td>\n",
       "      <td>0</td>\n",
       "      <td>584900.0</td>\n",
       "      <td>0.0</td>\n",
       "      <td>15000000.0</td>\n",
       "      <td>8</td>\n",
       "      <td>1.0</td>\n",
       "      <td>2</td>\n",
       "      <td>1</td>\n",
       "    </tr>\n",
       "  </tbody>\n",
       "</table>\n",
       "</div>"
      ],
      "text/plain": [
       "   Gender  Married  Dependents  Education  Self_Employed  Applicant_Income  Coapplicant_Income  Loan_Amount  Term  Credit_History  Area  Status\n",
       "0       1        0           0          0              0          584900.0                 0.0   15000000.0     8             1.0     2       1"
      ]
     },
     "execution_count": 249,
     "metadata": {},
     "output_type": "execute_result"
    }
   ],
   "source": [
    "data.head(1)"
   ]
  },
  {
   "cell_type": "code",
   "execution_count": 250,
   "id": "62e80d64-50c6-4d80-91d5-3e3618a84f46",
   "metadata": {},
   "outputs": [
    {
     "data": {
      "text/plain": [
       "Gender                0\n",
       "Married               0\n",
       "Dependents            0\n",
       "Education             0\n",
       "Self_Employed         0\n",
       "Applicant_Income      0\n",
       "Coapplicant_Income    0\n",
       "Loan_Amount           0\n",
       "Term                  0\n",
       "Credit_History        0\n",
       "Area                  0\n",
       "Status                0\n",
       "dtype: int64"
      ]
     },
     "execution_count": 250,
     "metadata": {},
     "output_type": "execute_result"
    }
   ],
   "source": [
    "data.isna().sum()"
   ]
  },
  {
   "cell_type": "markdown",
   "id": "846f7afe-866d-47bd-9b2e-f67c7a6765c1",
   "metadata": {},
   "source": [
    "#### Descretization"
   ]
  },
  {
   "cell_type": "code",
   "execution_count": 251,
   "id": "befe5d70-93c6-41a4-bbaf-0d917e004cf9",
   "metadata": {},
   "outputs": [],
   "source": [
    "data.Applicant_Income = pd.qcut(data.Applicant_Income,15,labels=[0,1,2,3,4,5,6,7,8,9,10,11,12,13,14])\n",
    "data.Loan_Amount = pd.qcut(data.Loan_Amount,10,labels=[0,1,2,3,4,5,6,7,8,9])\n",
    "#data.Coapplicant_Income = pd.qcut(data.Coapplicant_Income,2,labels=[0,1])"
   ]
  },
  {
   "cell_type": "code",
   "execution_count": 252,
   "id": "22ae9c50-9a49-4c95-9502-2a11639d23d2",
   "metadata": {},
   "outputs": [],
   "source": [
    "data.Coapplicant_Income = pd.cut(x = data.Coapplicant_Income, bins = [0,150000,200000,300000,400000,500000,600000,700000,800000,\n",
    "                                                                      900000,1000000,1500000,2000000,2500000,3000000,3500000,4000000,4200000] , \n",
    "                                 labels = [1,2,3,4,5,6,7,8,9,10,11,12,13,14,15,16,17])\n",
    "data.Coapplicant_Income.fillna(value=10, inplace=True)"
   ]
  },
  {
   "cell_type": "code",
   "execution_count": 253,
   "id": "cd96ad4b-7076-4505-b692-112717ffeac7",
   "metadata": {},
   "outputs": [],
   "source": [
    "data.Credit_History = data.Credit_History.astype(int)"
   ]
  },
  {
   "cell_type": "code",
   "execution_count": 254,
   "id": "6cf66e82-b487-48bd-a7b1-f6e6943efe3f",
   "metadata": {},
   "outputs": [
    {
     "data": {
      "text/html": [
       "<div>\n",
       "<style scoped>\n",
       "    .dataframe tbody tr th:only-of-type {\n",
       "        vertical-align: middle;\n",
       "    }\n",
       "\n",
       "    .dataframe tbody tr th {\n",
       "        vertical-align: top;\n",
       "    }\n",
       "\n",
       "    .dataframe thead th {\n",
       "        text-align: right;\n",
       "    }\n",
       "</style>\n",
       "<table border=\"1\" class=\"dataframe\">\n",
       "  <thead>\n",
       "    <tr style=\"text-align: right;\">\n",
       "      <th></th>\n",
       "      <th>Gender</th>\n",
       "      <th>Married</th>\n",
       "      <th>Dependents</th>\n",
       "      <th>Education</th>\n",
       "      <th>Self_Employed</th>\n",
       "      <th>Applicant_Income</th>\n",
       "      <th>Coapplicant_Income</th>\n",
       "      <th>Loan_Amount</th>\n",
       "      <th>Term</th>\n",
       "      <th>Credit_History</th>\n",
       "      <th>Area</th>\n",
       "      <th>Status</th>\n",
       "    </tr>\n",
       "  </thead>\n",
       "  <tbody>\n",
       "    <tr>\n",
       "      <th>0</th>\n",
       "      <td>1</td>\n",
       "      <td>0</td>\n",
       "      <td>0</td>\n",
       "      <td>0</td>\n",
       "      <td>0</td>\n",
       "      <td>12</td>\n",
       "      <td>10</td>\n",
       "      <td>6</td>\n",
       "      <td>8</td>\n",
       "      <td>1</td>\n",
       "      <td>2</td>\n",
       "      <td>1</td>\n",
       "    </tr>\n",
       "  </tbody>\n",
       "</table>\n",
       "</div>"
      ],
      "text/plain": [
       "   Gender  Married  Dependents  Education  Self_Employed Applicant_Income Coapplicant_Income Loan_Amount  Term  Credit_History  Area  Status\n",
       "0       1        0           0          0              0               12                 10           6     8               1     2       1"
      ]
     },
     "execution_count": 254,
     "metadata": {},
     "output_type": "execute_result"
    }
   ],
   "source": [
    "data.head(1)"
   ]
  },
  {
   "cell_type": "code",
   "execution_count": 255,
   "id": "4e02ca3b-495b-4e9b-99ee-05c3c3f0bb46",
   "metadata": {},
   "outputs": [
    {
     "data": {
      "text/plain": [
       "8    526\n",
       "5     44\n",
       "9     15\n",
       "7     13\n",
       "6      4\n",
       "3      4\n",
       "4      3\n",
       "2      2\n",
       "1      2\n",
       "0      1\n",
       "Name: Term, dtype: int64"
      ]
     },
     "execution_count": 255,
     "metadata": {},
     "output_type": "execute_result"
    }
   ],
   "source": [
    "data.Term.value_counts()"
   ]
  },
  {
   "cell_type": "markdown",
   "id": "293aeaf0-add8-463b-a66d-2776f2d9dd12",
   "metadata": {},
   "source": [
    "* Check distruition"
   ]
  },
  {
   "cell_type": "code",
   "execution_count": 256,
   "id": "18870ccf-b836-44c4-9f0f-ff1fe5090798",
   "metadata": {},
   "outputs": [
    {
     "data": {
      "text/plain": [
       "array([[<AxesSubplot:title={'center':'Gender'}>,\n",
       "        <AxesSubplot:title={'center':'Married'}>,\n",
       "        <AxesSubplot:title={'center':'Dependents'}>],\n",
       "       [<AxesSubplot:title={'center':'Education'}>,\n",
       "        <AxesSubplot:title={'center':'Self_Employed'}>,\n",
       "        <AxesSubplot:title={'center':'Term'}>],\n",
       "       [<AxesSubplot:title={'center':'Credit_History'}>,\n",
       "        <AxesSubplot:title={'center':'Area'}>,\n",
       "        <AxesSubplot:title={'center':'Status'}>]], dtype=object)"
      ]
     },
     "execution_count": 256,
     "metadata": {},
     "output_type": "execute_result"
    },
    {
     "data": {
      "image/png": "[encoded data removed]",
      "text/plain": [
       "<Figure size 720x720 with 9 Axes>"
      ]
     },
     "metadata": {
      "needs_background": "light"
     },
     "output_type": "display_data"
    }
   ],
   "source": [
    "data.hist(figsize=(10, 10))"
   ]
  },
  {
   "cell_type": "markdown",
   "id": "ad3818dc-edd3-477b-92e7-12d80862d5de",
   "metadata": {},
   "source": [
    "* Use describe statistic"
   ]
  },
  {
   "cell_type": "code",
   "execution_count": 257,
   "id": "31f29291-fb50-49ab-bf62-860520a3ba73",
   "metadata": {},
   "outputs": [
    {
     "data": {
      "text/html": [
       "<div>\n",
       "<style scoped>\n",
       "    .dataframe tbody tr th:only-of-type {\n",
       "        vertical-align: middle;\n",
       "    }\n",
       "\n",
       "    .dataframe tbody tr th {\n",
       "        vertical-align: top;\n",
       "    }\n",
       "\n",
       "    .dataframe thead th {\n",
       "        text-align: right;\n",
       "    }\n",
       "</style>\n",
       "<table border=\"1\" class=\"dataframe\">\n",
       "  <thead>\n",
       "    <tr style=\"text-align: right;\">\n",
       "      <th></th>\n",
       "      <th>Gender</th>\n",
       "      <th>Married</th>\n",
       "      <th>Dependents</th>\n",
       "      <th>Education</th>\n",
       "      <th>Self_Employed</th>\n",
       "      <th>Term</th>\n",
       "      <th>Credit_History</th>\n",
       "      <th>Area</th>\n",
       "      <th>Status</th>\n",
       "    </tr>\n",
       "  </thead>\n",
       "  <tbody>\n",
       "    <tr>\n",
       "      <th>count</th>\n",
       "      <td>614.0</td>\n",
       "      <td>614.0</td>\n",
       "      <td>614.0</td>\n",
       "      <td>614.0</td>\n",
       "      <td>614.0</td>\n",
       "      <td>614.0</td>\n",
       "      <td>614.0</td>\n",
       "      <td>614.0</td>\n",
       "      <td>614.0</td>\n",
       "    </tr>\n",
       "    <tr>\n",
       "      <th>mean</th>\n",
       "      <td>1.0</td>\n",
       "      <td>1.0</td>\n",
       "      <td>1.0</td>\n",
       "      <td>0.0</td>\n",
       "      <td>0.0</td>\n",
       "      <td>8.0</td>\n",
       "      <td>1.0</td>\n",
       "      <td>1.0</td>\n",
       "      <td>1.0</td>\n",
       "    </tr>\n",
       "    <tr>\n",
       "      <th>std</th>\n",
       "      <td>0.0</td>\n",
       "      <td>0.0</td>\n",
       "      <td>1.0</td>\n",
       "      <td>0.0</td>\n",
       "      <td>0.0</td>\n",
       "      <td>1.0</td>\n",
       "      <td>0.0</td>\n",
       "      <td>1.0</td>\n",
       "      <td>0.0</td>\n",
       "    </tr>\n",
       "    <tr>\n",
       "      <th>min</th>\n",
       "      <td>0.0</td>\n",
       "      <td>0.0</td>\n",
       "      <td>0.0</td>\n",
       "      <td>0.0</td>\n",
       "      <td>0.0</td>\n",
       "      <td>0.0</td>\n",
       "      <td>0.0</td>\n",
       "      <td>0.0</td>\n",
       "      <td>0.0</td>\n",
       "    </tr>\n",
       "    <tr>\n",
       "      <th>25%</th>\n",
       "      <td>1.0</td>\n",
       "      <td>0.0</td>\n",
       "      <td>0.0</td>\n",
       "      <td>0.0</td>\n",
       "      <td>0.0</td>\n",
       "      <td>8.0</td>\n",
       "      <td>1.0</td>\n",
       "      <td>0.0</td>\n",
       "      <td>0.0</td>\n",
       "    </tr>\n",
       "    <tr>\n",
       "      <th>50%</th>\n",
       "      <td>1.0</td>\n",
       "      <td>1.0</td>\n",
       "      <td>0.0</td>\n",
       "      <td>0.0</td>\n",
       "      <td>0.0</td>\n",
       "      <td>8.0</td>\n",
       "      <td>1.0</td>\n",
       "      <td>1.0</td>\n",
       "      <td>1.0</td>\n",
       "    </tr>\n",
       "    <tr>\n",
       "      <th>75%</th>\n",
       "      <td>1.0</td>\n",
       "      <td>1.0</td>\n",
       "      <td>1.0</td>\n",
       "      <td>0.0</td>\n",
       "      <td>0.0</td>\n",
       "      <td>8.0</td>\n",
       "      <td>1.0</td>\n",
       "      <td>2.0</td>\n",
       "      <td>1.0</td>\n",
       "    </tr>\n",
       "    <tr>\n",
       "      <th>max</th>\n",
       "      <td>2.0</td>\n",
       "      <td>2.0</td>\n",
       "      <td>3.0</td>\n",
       "      <td>1.0</td>\n",
       "      <td>1.0</td>\n",
       "      <td>9.0</td>\n",
       "      <td>1.0</td>\n",
       "      <td>2.0</td>\n",
       "      <td>1.0</td>\n",
       "    </tr>\n",
       "  </tbody>\n",
       "</table>\n",
       "</div>"
      ],
      "text/plain": [
       "       Gender  Married  Dependents  Education  Self_Employed   Term  Credit_History   Area  Status\n",
       "count   614.0    614.0       614.0      614.0          614.0  614.0           614.0  614.0   614.0\n",
       "mean      1.0      1.0         1.0        0.0            0.0    8.0             1.0    1.0     1.0\n",
       "std       0.0      0.0         1.0        0.0            0.0    1.0             0.0    1.0     0.0\n",
       "min       0.0      0.0         0.0        0.0            0.0    0.0             0.0    0.0     0.0\n",
       "25%       1.0      0.0         0.0        0.0            0.0    8.0             1.0    0.0     0.0\n",
       "50%       1.0      1.0         0.0        0.0            0.0    8.0             1.0    1.0     1.0\n",
       "75%       1.0      1.0         1.0        0.0            0.0    8.0             1.0    2.0     1.0\n",
       "max       2.0      2.0         3.0        1.0            1.0    9.0             1.0    2.0     1.0"
      ]
     },
     "execution_count": 257,
     "metadata": {},
     "output_type": "execute_result"
    }
   ],
   "source": [
    "data.describe().round()"
   ]
  },
  {
   "cell_type": "markdown",
   "id": "e1597a12-078c-43bc-9ef7-1fbbdb976e48",
   "metadata": {},
   "source": [
    "* Use logistic Rregression, Tree algorithm and reduce dimension also create a new feature"
   ]
  },
  {
   "cell_type": "markdown",
   "id": "89f3dd9d-9359-4b6d-9828-52179265d4a4",
   "metadata": {},
   "source": [
    "#### Scaling"
   ]
  },
  {
   "cell_type": "code",
   "execution_count": 258,
   "id": "bede48fc-b28f-46ba-9acf-f794c4528d59",
   "metadata": {},
   "outputs": [
    {
     "data": {
      "text/html": [
       "<div>\n",
       "<style scoped>\n",
       "    .dataframe tbody tr th:only-of-type {\n",
       "        vertical-align: middle;\n",
       "    }\n",
       "\n",
       "    .dataframe tbody tr th {\n",
       "        vertical-align: top;\n",
       "    }\n",
       "\n",
       "    .dataframe thead th {\n",
       "        text-align: right;\n",
       "    }\n",
       "</style>\n",
       "<table border=\"1\" class=\"dataframe\">\n",
       "  <thead>\n",
       "    <tr style=\"text-align: right;\">\n",
       "      <th></th>\n",
       "      <th>Gender</th>\n",
       "      <th>Married</th>\n",
       "      <th>Dependents</th>\n",
       "      <th>Education</th>\n",
       "      <th>Self_Employed</th>\n",
       "      <th>Applicant_Income</th>\n",
       "      <th>Coapplicant_Income</th>\n",
       "      <th>Loan_Amount</th>\n",
       "      <th>Term</th>\n",
       "      <th>Credit_History</th>\n",
       "      <th>Area</th>\n",
       "      <th>Status</th>\n",
       "    </tr>\n",
       "  </thead>\n",
       "  <tbody>\n",
       "    <tr>\n",
       "      <th>count</th>\n",
       "      <td>614.00</td>\n",
       "      <td>614.00</td>\n",
       "      <td>614.00</td>\n",
       "      <td>614.00</td>\n",
       "      <td>614.00</td>\n",
       "      <td>614.00</td>\n",
       "      <td>614.00</td>\n",
       "      <td>614.00</td>\n",
       "      <td>614.00</td>\n",
       "      <td>614.00</td>\n",
       "      <td>614.00</td>\n",
       "      <td>614.00</td>\n",
       "    </tr>\n",
       "    <tr>\n",
       "      <th>mean</th>\n",
       "      <td>0.42</td>\n",
       "      <td>0.33</td>\n",
       "      <td>0.25</td>\n",
       "      <td>0.22</td>\n",
       "      <td>0.13</td>\n",
       "      <td>0.50</td>\n",
       "      <td>0.56</td>\n",
       "      <td>0.50</td>\n",
       "      <td>0.85</td>\n",
       "      <td>0.85</td>\n",
       "      <td>0.52</td>\n",
       "      <td>0.69</td>\n",
       "    </tr>\n",
       "    <tr>\n",
       "      <th>std</th>\n",
       "      <td>0.21</td>\n",
       "      <td>0.24</td>\n",
       "      <td>0.34</td>\n",
       "      <td>0.41</td>\n",
       "      <td>0.34</td>\n",
       "      <td>0.31</td>\n",
       "      <td>0.42</td>\n",
       "      <td>0.32</td>\n",
       "      <td>0.12</td>\n",
       "      <td>0.36</td>\n",
       "      <td>0.39</td>\n",
       "      <td>0.46</td>\n",
       "    </tr>\n",
       "    <tr>\n",
       "      <th>min</th>\n",
       "      <td>0.00</td>\n",
       "      <td>0.00</td>\n",
       "      <td>0.00</td>\n",
       "      <td>0.00</td>\n",
       "      <td>0.00</td>\n",
       "      <td>0.00</td>\n",
       "      <td>0.00</td>\n",
       "      <td>0.00</td>\n",
       "      <td>0.00</td>\n",
       "      <td>0.00</td>\n",
       "      <td>0.00</td>\n",
       "      <td>0.00</td>\n",
       "    </tr>\n",
       "    <tr>\n",
       "      <th>25%</th>\n",
       "      <td>0.50</td>\n",
       "      <td>0.00</td>\n",
       "      <td>0.00</td>\n",
       "      <td>0.00</td>\n",
       "      <td>0.00</td>\n",
       "      <td>0.21</td>\n",
       "      <td>0.22</td>\n",
       "      <td>0.22</td>\n",
       "      <td>0.89</td>\n",
       "      <td>1.00</td>\n",
       "      <td>0.00</td>\n",
       "      <td>0.00</td>\n",
       "    </tr>\n",
       "    <tr>\n",
       "      <th>50%</th>\n",
       "      <td>0.50</td>\n",
       "      <td>0.50</td>\n",
       "      <td>0.00</td>\n",
       "      <td>0.00</td>\n",
       "      <td>0.00</td>\n",
       "      <td>0.50</td>\n",
       "      <td>0.44</td>\n",
       "      <td>0.44</td>\n",
       "      <td>0.89</td>\n",
       "      <td>1.00</td>\n",
       "      <td>0.50</td>\n",
       "      <td>1.00</td>\n",
       "    </tr>\n",
       "    <tr>\n",
       "      <th>75%</th>\n",
       "      <td>0.50</td>\n",
       "      <td>0.50</td>\n",
       "      <td>0.33</td>\n",
       "      <td>0.00</td>\n",
       "      <td>0.00</td>\n",
       "      <td>0.79</td>\n",
       "      <td>1.00</td>\n",
       "      <td>0.78</td>\n",
       "      <td>0.89</td>\n",
       "      <td>1.00</td>\n",
       "      <td>1.00</td>\n",
       "      <td>1.00</td>\n",
       "    </tr>\n",
       "    <tr>\n",
       "      <th>max</th>\n",
       "      <td>1.00</td>\n",
       "      <td>1.00</td>\n",
       "      <td>1.00</td>\n",
       "      <td>1.00</td>\n",
       "      <td>1.00</td>\n",
       "      <td>1.00</td>\n",
       "      <td>1.00</td>\n",
       "      <td>1.00</td>\n",
       "      <td>1.00</td>\n",
       "      <td>1.00</td>\n",
       "      <td>1.00</td>\n",
       "      <td>1.00</td>\n",
       "    </tr>\n",
       "  </tbody>\n",
       "</table>\n",
       "</div>"
      ],
      "text/plain": [
       "       Gender  Married  Dependents  Education  Self_Employed  Applicant_Income  Coapplicant_Income  Loan_Amount    Term  Credit_History    Area  Status\n",
       "count  614.00   614.00      614.00     614.00         614.00            614.00              614.00       614.00  614.00          614.00  614.00  614.00\n",
       "mean     0.42     0.33        0.25       0.22           0.13              0.50                0.56         0.50    0.85            0.85    0.52    0.69\n",
       "std      0.21     0.24        0.34       0.41           0.34              0.31                0.42         0.32    0.12            0.36    0.39    0.46\n",
       "min      0.00     0.00        0.00       0.00           0.00              0.00                0.00         0.00    0.00            0.00    0.00    0.00\n",
       "25%      0.50     0.00        0.00       0.00           0.00              0.21                0.22         0.22    0.89            1.00    0.00    0.00\n",
       "50%      0.50     0.50        0.00       0.00           0.00              0.50                0.44         0.44    0.89            1.00    0.50    1.00\n",
       "75%      0.50     0.50        0.33       0.00           0.00              0.79                1.00         0.78    0.89            1.00    1.00    1.00\n",
       "max      1.00     1.00        1.00       1.00           1.00              1.00                1.00         1.00    1.00            1.00    1.00    1.00"
      ]
     },
     "execution_count": 258,
     "metadata": {},
     "output_type": "execute_result"
    }
   ],
   "source": [
    "scaler = MinMaxScaler()\n",
    "data_scaled = scaler.fit_transform(data)\n",
    "data_scaled = pd.DataFrame(data_scaled, columns = data.columns)\n",
    "data_scaled.describe().round(2)"
   ]
  },
  {
   "cell_type": "markdown",
   "id": "d66778c6-5fb6-463f-97a7-e69abb4766b2",
   "metadata": {},
   "source": [
    "#### Training + Feature Selection and Dimensionality Reduction"
   ]
  },
  {
   "cell_type": "markdown",
   "id": "452f76a4-26d5-40db-b617-398bd211eea4",
   "metadata": {},
   "source": [
    "#### Logistic Regression"
   ]
  },
  {
   "cell_type": "code",
   "execution_count": 259,
   "id": "2c876541-8ff9-4897-9426-98a34655f1cc",
   "metadata": {},
   "outputs": [],
   "source": [
    "X = data_scaled.drop('Status',axis=1)\n",
    "y = data_scaled.Status"
   ]
  },
  {
   "cell_type": "code",
   "execution_count": 260,
   "id": "62e90c8d-15ba-403f-9339-ec592f9bc0d3",
   "metadata": {},
   "outputs": [],
   "source": [
    "X_train, X_test, y_train, y_test = train_test_split(X, y, test_size=0.3,shuffle=False)"
   ]
  },
  {
   "cell_type": "code",
   "execution_count": 261,
   "id": "f5bd2544-e99d-4471-972d-c35303466659",
   "metadata": {},
   "outputs": [],
   "source": [
    "model = LogisticRegression(max_iter=1000)\n",
    "model.fit(X_train,y_train)\n",
    "pred = model.predict(X_test)"
   ]
  },
  {
   "cell_type": "code",
   "execution_count": 262,
   "id": "a51bf08e-fad3-41eb-81ff-ee56d80f7b05",
   "metadata": {},
   "outputs": [
    {
     "name": "stdout",
     "output_type": "stream",
     "text": [
      "R2 score:0.34073464912280704\n",
      "Mean absolute error is 0.14054054054054055\n"
     ]
    }
   ],
   "source": [
    "score=r2_score(y_test,pred)\n",
    "print(f\"R2 score:{score}\") \n",
    "print(f'Mean absolute error is {mean_absolute_error(y_test, pred)}')"
   ]
  },
  {
   "cell_type": "markdown",
   "id": "37685666-2d4e-416a-88ac-0f3d5f27f6e9",
   "metadata": {},
   "source": [
    "#### Logistic Regression with RFE"
   ]
  },
  {
   "cell_type": "markdown",
   "id": "fc92e9b8-46a1-48ed-a949-5e7edca11362",
   "metadata": {},
   "source": [
    "##### checking most relevant features with chi2"
   ]
  },
  {
   "cell_type": "code",
   "execution_count": 263,
   "id": "75450801-1247-4d74-8da6-dfb2935dc856",
   "metadata": {},
   "outputs": [
    {
     "name": "stdout",
     "output_type": "stream",
     "text": [
      "['Gender' 'Married' 'Dependents' 'Education' 'Self_Employed'\n",
      " 'Applicant_Income' 'Coapplicant_Income' 'Loan_Amount' 'Term'\n",
      " 'Credit_History' 'Area']\n",
      "[0.94 0.31 0.87 0.06 0.93 0.9  0.33 0.87 0.99 0.   0.66]\n",
      "[False False False  True False False False False False  True False]\n"
     ]
    }
   ],
   "source": [
    "selector = SelectKBest(chi2, k=2)\n",
    "X_new = selector.fit_transform(X, y)\n",
    "print(selector.feature_names_in_)\n",
    "print(selector.pvalues_.round(2))\n",
    "print(selector.get_support())"
   ]
  },
  {
   "cell_type": "code",
   "execution_count": 264,
   "id": "29110149-59c0-4aee-9a75-af477061f0bc",
   "metadata": {},
   "outputs": [],
   "source": [
    "model_rfe_lr = LogisticRegression(max_iter=1000)\n",
    "rfe_lr = RFE(model_rfe_lr, n_features_to_select=2)\n",
    "RFE_fit = rfe_lr.fit(X_train,y_train)\n",
    "pred_rfe_lr = rfe_lr.predict(X_test)"
   ]
  },
  {
   "cell_type": "code",
   "execution_count": 265,
   "id": "b72b18a7-1624-4d8c-aed3-6331c2e1a232",
   "metadata": {},
   "outputs": [
    {
     "name": "stdout",
     "output_type": "stream",
     "text": [
      "Index(['Married', 'Credit_History'], dtype='object')\n"
     ]
    }
   ],
   "source": [
    "print(X_train.columns[RFE_fit.get_support()])"
   ]
  },
  {
   "cell_type": "code",
   "execution_count": 266,
   "id": "adc64842-4c9a-40c1-8f6e-cf48dc8e24cd",
   "metadata": {},
   "outputs": [
    {
     "name": "stdout",
     "output_type": "stream",
     "text": [
      "R2 score:0.39144736842105265\n",
      "Mean absolute error is 0.12972972972972974\n"
     ]
    }
   ],
   "source": [
    "score_rfe_lr=r2_score(y_test,pred_rfe_lr)\n",
    "print(f\"R2 score:{score_rfe_lr}\") \n",
    "print(f'Mean absolute error is {mean_absolute_error(y_test, pred_rfe_lr)}')"
   ]
  },
  {
   "cell_type": "markdown",
   "id": "931cb9da-c2d4-49bf-8409-0636baf3cb6d",
   "metadata": {},
   "source": [
    "#### Random Forest Classifier"
   ]
  },
  {
   "cell_type": "code",
   "execution_count": 267,
   "id": "6c3659c7-ac7f-47a1-b2ae-a35709e5a075",
   "metadata": {},
   "outputs": [],
   "source": [
    "X2 = data.drop('Status',axis=1)\n",
    "y2 = data.Status"
   ]
  },
  {
   "cell_type": "code",
   "execution_count": 268,
   "id": "ceab63d9-2875-4550-9f03-15fd9cab5ad8",
   "metadata": {},
   "outputs": [],
   "source": [
    "X2_train, X2_test, y2_train, y2_test = train_test_split(X2, y2, test_size=0.3,shuffle=False)"
   ]
  },
  {
   "cell_type": "code",
   "execution_count": 269,
   "id": "a8df2922-e2f9-4c68-87c2-de8bb816e099",
   "metadata": {},
   "outputs": [],
   "source": [
    "model2 = RandomForestClassifier(max_depth=2, random_state=0)\n",
    "model2.fit(X2_train, y2_train)\n",
    "pred2 = model2.predict(X2_test)"
   ]
  },
  {
   "cell_type": "code",
   "execution_count": 270,
   "id": "fbeb9759-c3e0-47c2-8afb-44331c4d9705",
   "metadata": {},
   "outputs": [
    {
     "name": "stdout",
     "output_type": "stream",
     "text": [
      "R2 score:0.39144736842105265\n",
      "Mean absolute error is 0.12972972972972974\n"
     ]
    }
   ],
   "source": [
    "score2=r2_score(y2_test,pred2)\n",
    "print(f\"R2 score:{score2}\") \n",
    "print(f'Mean absolute error is {mean_absolute_error(y2_test, pred2)}')"
   ]
  },
  {
   "cell_type": "markdown",
   "id": "d00fcc72-60d1-4e53-976c-a5540fd16a8f",
   "metadata": {},
   "source": [
    "#### Random Forest Classifier with RFE"
   ]
  },
  {
   "cell_type": "markdown",
   "id": "1f9b0da1-89d9-41c8-bdce-a74c32c714b2",
   "metadata": {},
   "source": [
    "##### checking most relevant features with chi2"
   ]
  },
  {
   "cell_type": "code",
   "execution_count": 271,
   "id": "c12ad3af-d808-4b7d-aca7-b4893256ce74",
   "metadata": {},
   "outputs": [
    {
     "name": "stdout",
     "output_type": "stream",
     "text": [
      "['Gender' 'Married' 'Dependents' 'Education' 'Self_Employed'\n",
      " 'Applicant_Income' 'Coapplicant_Income' 'Loan_Amount' 'Term'\n",
      " 'Credit_History' 'Area']\n",
      "[0.92 0.15 0.77 0.06 0.93 0.62 0.01 0.64 0.96 0.   0.54]\n",
      "[False False False False False False  True False False  True False]\n"
     ]
    }
   ],
   "source": [
    "selector = SelectKBest(chi2, k=2)\n",
    "X2_new = selector.fit_transform(X2, y2)\n",
    "print(selector.feature_names_in_)\n",
    "print(selector.pvalues_.round(2))\n",
    "print(selector.get_support())"
   ]
  },
  {
   "cell_type": "code",
   "execution_count": 272,
   "id": "cf6e223f-d334-4652-a1f0-1553fcfd1d57",
   "metadata": {},
   "outputs": [],
   "source": [
    "model_rf_rfe = RandomForestClassifier(max_depth=2, random_state=0)\n",
    "rfe_rf = RFE(model_rf_rfe, n_features_to_select=2)\n",
    "RFE_fit2 = rfe_rf.fit(X2_train,y2_train)\n",
    "\n",
    "pred_rf_rfe = rfe_rf.predict(X2_test)"
   ]
  },
  {
   "cell_type": "code",
   "execution_count": 273,
   "id": "9d7413c6-5caa-4259-b440-8f06565f6124",
   "metadata": {},
   "outputs": [
    {
     "name": "stdout",
     "output_type": "stream",
     "text": [
      "Index(['Loan_Amount', 'Credit_History'], dtype='object')\n"
     ]
    }
   ],
   "source": [
    "print(X2_train.columns[REF_fit2.get_support()])"
   ]
  },
  {
   "cell_type": "code",
   "execution_count": 274,
   "id": "62f33407-fc3b-4b66-8d38-b5d8eeaa5018",
   "metadata": {},
   "outputs": [
    {
     "name": "stdout",
     "output_type": "stream",
     "text": [
      "R2 score:0.39144736842105265\n",
      "Mean absolute error is 0.12972972972972974\n"
     ]
    }
   ],
   "source": [
    "score_rf_rfe=r2_score(y2_test,pred_rf_rfe)\n",
    "print(f\"R2 score:{score_rf_rfe}\") \n",
    "print(f'Mean absolute error is {mean_absolute_error(y2_test, pred_rf_rfe)}')"
   ]
  },
  {
   "cell_type": "markdown",
   "id": "77d20988-eb96-46f1-8534-7df57db0dade",
   "metadata": {},
   "source": [
    "\n",
    "* Explain the results"
   ]
  },
  {
   "cell_type": "markdown",
   "id": "1df67c21-4824-44b6-a4c1-7e43249dffa2",
   "metadata": {},
   "source": [
    "#### Distribution:\n",
    "* Gender: probably negative binomial distribution (or poisson distribution?)\n",
    "* Married: probably negative binomial distribution (or poisson distribution?)\n",
    "* Dependents: not sure what type of distribution, skewed to the left \n",
    "* Education: bernoulli distribution because only 2 possible outcomes\n",
    "* Self_Employed: bernoulli distribution because only 2 possible outcomes\n",
    "* Term: not sure what type of distribution, but highly skewed to the left. When removing the outliers, everything except 360, so i decided not to remove outliers there.\n",
    "* Credit_History: bernoulli distribution because only 2 possible outcomes\n",
    "* Area: probably normal or uniform distribution. the differences are not big, but I think its more normal since for uniform all outcome have same probability \n",
    "* Status: bernoulli distribution because only 2 possible outcomes"
   ]
  },
  {
   "cell_type": "markdown",
   "id": "b0033618-f877-4c9d-a9aa-23c7ffd50895",
   "metadata": {
    "tags": []
   },
   "source": [
    "#### Logistic Regression: \n",
    "* R2 score:0.3407\n",
    "* Mean absolute error is 0.1405\n",
    "\n",
    "##### with RFE:\n",
    "* R2 score:0.3914\n",
    "* Mean absolute error is 0.1297\n",
    "\n",
    "##### Valuable features in LR by RFE:\n",
    "* Married, Credit_History\n",
    "\n",
    "##### Valuable features in LR by Chi2:\n",
    "* Education, Credit History\n",
    "\n",
    "#### Random Forest \n",
    "* R2 score:0.391\n",
    "* Mean absolute error is 0.129\n",
    "\n",
    "##### with RFE:\n",
    "* R2 score:0.391\n",
    "* Mean absolute error is 0.129\n",
    "\n",
    "##### Valuable features in RF by RFE:\n",
    "* Loan Amount, Credit History\n",
    "\n",
    "##### Valuable features in RF by Chi2:\n",
    "* Coapplicant_Income, Credit History\n",
    "\n",
    "\n",
    "__________________________________________________________________\n",
    "\n",
    "##### As a result, the score of Logistic Regression without RFE was the lowest (0.34)\n",
    "##### The result of LR with RFE and results of Random Forest (with and without RFE) are the same and equal to 0.39 which is a little bit better\n",
    "##### If analyzing which exactly features are considered most valuable, I think that RFE of RF was the most precise (Loan Amount and Credit History)"
   ]
  },
  {
   "cell_type": "code",
   "execution_count": null,
   "id": "abcde195-5f58-4599-a78c-84684f2e805e",
   "metadata": {},
   "outputs": [],
   "source": []
  }
 ],
 "metadata": {
  "kernelspec": {
   "display_name": "Python 3 (ipykernel)",
   "language": "python",
   "name": "python3"
  },
  "language_info": {
   "codemirror_mode": {
    "name": "ipython",
    "version": 3
   },
   "file_extension": ".py",
   "mimetype": "text/x-python",
   "name": "python",
   "nbconvert_exporter": "python",
   "pygments_lexer": "ipython3",
   "version": "3.8.10"
  }
 },
 "nbformat": 4,
 "nbformat_minor": 5
}
