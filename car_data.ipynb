{
 "cells": [
  {
   "cell_type": "code",
   "execution_count": null,
   "id": "990f7fd2-8e67-48b5-bfe5-a57af56a0a78",
   "metadata": {},
   "outputs": [],
   "source": [
    "import re\n",
    "import sklearn\n",
    "import  numpy  as  np \n",
    "import  pandas  as  pd \n",
    "import matplotlib.pyplot as vis\n",
    "\n",
    "from sklearn.model_selection import train_test_split\n",
    "from sklearn import metrics\n",
    "from sklearn.metrics import mean_absolute_error\n",
    "from sklearn.metrics import r2_score\n",
    "\n",
    "from sklearn.linear_model import LinearRegression\n",
    "from sklearn.preprocessing import MinMaxScaler\n",
    "from sklearn.preprocessing import StandardScaler"
   ]
  },
  {
   "cell_type": "code",
   "execution_count": null,
   "id": "e727d286-bca5-415a-804c-56d5f0e5c4b2",
   "metadata": {},
   "outputs": [],
   "source": [
    "data = pd.read_csv('CarData.csv')\n",
    "data.head()"
   ]
  },
  {
   "cell_type": "markdown",
   "id": "6cba8a0f-004b-4c72-9282-016b5d289318",
   "metadata": {},
   "source": [
    "### Prepare the dataset to try to predict the correct price of the car.\n",
    "The Target is : Current_price\n"
   ]
  },
  {
   "cell_type": "code",
   "execution_count": null,
   "id": "ac055a9f-7435-48ba-af61-5f46f4f5cd74",
   "metadata": {},
   "outputs": [],
   "source": [
    "data.isna().sum()"
   ]
  },
  {
   "cell_type": "code",
   "execution_count": null,
   "id": "3633ff5b-fa44-476c-a677-fab8caf4db3f",
   "metadata": {},
   "outputs": [],
   "source": [
    "data.info()"
   ]
  },
  {
   "cell_type": "code",
   "execution_count": null,
   "id": "54d6f7da-6a5b-4201-87d4-8c839885fd02",
   "metadata": {},
   "outputs": [],
   "source": [
    "def remove_outliers(data):\n",
    "    Q1= data.quantile(0.25)\n",
    "    Q3= data.quantile(0.75)  \n",
    "    IQ_range= Q3-Q1\n",
    "    data_clean= data[~((data<(Q1 - 3.0*IQ_range)) | (data>(Q3 + 3.0*IQ_range)))]\n",
    "    return data_clean"
   ]
  },
  {
   "cell_type": "code",
   "execution_count": null,
   "id": "36455d1d-d92c-4133-b5a6-50240541d00c",
   "metadata": {},
   "outputs": [],
   "source": [
    "data = remove_outliers(data)\n",
    "data['Current_price'].fillna(data.Current_price.median(), inplace = True)\n",
    "data['Selling_Price'].fillna(data.Selling_Price.median(), inplace = True)\n",
    "data['Kms_Driven'].fillna(data.Kms_Driven.median(), inplace = True)\n",
    "data['Owner'].fillna(data.Owner.median(), inplace = True)"
   ]
  },
  {
   "cell_type": "code",
   "execution_count": null,
   "id": "1ecadb65-2333-4243-942d-6e85aae85c8a",
   "metadata": {},
   "outputs": [],
   "source": [
    "data.isna().sum()"
   ]
  },
  {
   "cell_type": "code",
   "execution_count": null,
   "id": "f3f292f5-8bf6-4501-83aa-0ef591178304",
   "metadata": {},
   "outputs": [],
   "source": [
    "# data.Fuel_Type = data.Fuel_Type.apply(lambda x: 1 if x == 'Petrol' else (0 if x =='Diesel' else 2))\n",
    "data.Seller_Type = data.Seller_Type.apply(lambda x: 1 if x == 'Dealer' else 0)\n",
    "data.Transmission = data.Transmission.apply(lambda x: 1 if x == 'Manual' else 0)"
   ]
  },
  {
   "cell_type": "code",
   "execution_count": null,
   "id": "45c701f2-d8f0-4ac5-84a2-7796f2c4c0c9",
   "metadata": {},
   "outputs": [],
   "source": [
    "fuel = pd.get_dummies(data['Fuel_Type'], drop_first=True)\n",
    "print(fuel.head(2))"
   ]
  },
  {
   "cell_type": "code",
   "execution_count": null,
   "id": "bc2ad5da-0524-4e05-9463-fcd948cf6ab0",
   "metadata": {},
   "outputs": [],
   "source": [
    "data = pd.concat([data, fuel], axis=1)"
   ]
  },
  {
   "cell_type": "code",
   "execution_count": null,
   "id": "a25ba160-37cc-4578-bd88-d96eaa11b342",
   "metadata": {},
   "outputs": [],
   "source": [
    "data.drop(columns=['Fuel_Type','Car_Name','Owner'],inplace=True)"
   ]
  },
  {
   "cell_type": "code",
   "execution_count": null,
   "id": "839d212e-1303-405e-860f-20144f74da3e",
   "metadata": {},
   "outputs": [],
   "source": [
    "data.head()"
   ]
  },
  {
   "cell_type": "markdown",
   "id": "aa61150e-941c-4960-9342-9068e3d8012f",
   "metadata": {},
   "source": [
    "### Normalization "
   ]
  },
  {
   "cell_type": "code",
   "execution_count": null,
   "id": "bdc6fa52-85c3-4f86-befd-ff350c5a323d",
   "metadata": {},
   "outputs": [],
   "source": [
    "scaler = MinMaxScaler()\n",
    "norm_data = scaler.fit_transform(data)\n",
    "norm_data = pd.DataFrame(norm_data, columns = data.columns)\n",
    "norm_data.describe().round(2)"
   ]
  },
  {
   "cell_type": "code",
   "execution_count": null,
   "id": "9c1dfa44-83fe-44c0-b097-b4b741ae3b44",
   "metadata": {},
   "outputs": [],
   "source": [
    "norm_data.head(1)"
   ]
  },
  {
   "cell_type": "code",
   "execution_count": null,
   "id": "25ac5806-4563-477e-a578-692fa24c723a",
   "metadata": {},
   "outputs": [],
   "source": [
    "X_norm = norm_data[['Year','Selling_Price','Kms_Driven','Diesel','Petrol','Seller_Type','Transmission']]\n",
    "y_norm = norm_data['Current_price']\n",
    "\n",
    "X_train_norm, X_test_norm, y_train_norm, y_test_norm = train_test_split(X_norm, y_norm, test_size=0.3)"
   ]
  },
  {
   "cell_type": "code",
   "execution_count": null,
   "id": "4c8c105c-6ea6-493a-a6c1-35d01d9190fa",
   "metadata": {},
   "outputs": [],
   "source": [
    "lr = LinearRegression()\n",
    "lr.fit(X_train_norm, y_train_norm)\n",
    "pred = lr.predict(X_test_norm)\n",
    "score=r2_score(y_test_norm,pred)\n",
    "\n",
    "print(f\"R2 score:{score}\") \n",
    "print(f'Mean absolute error is {mean_absolute_error(y_test_norm, pred)}')"
   ]
  },
  {
   "cell_type": "code",
   "execution_count": null,
   "id": "18a3ce4e-d3ae-49c3-a9d0-7f5b9dc102cc",
   "metadata": {},
   "outputs": [],
   "source": [
    "corr = norm_data.corr()\n",
    "fig = vis.figure(figsize=(5,5))\n",
    "ax = fig.add_subplot(111)\n",
    "cax = ax.matshow(corr,cmap='inferno', vmin=-1, vmax=1)\n",
    "fig.colorbar(cax)\n",
    "ticks = np.arange(0,len(norm_data.columns),1)\n",
    "ax.set_xticks(ticks)\n",
    "vis.xticks(rotation=90)\n",
    "ax.set_yticks(ticks)\n",
    "ax.set_xticklabels(norm_data.columns)\n",
    "ax.set_yticklabels(norm_data.columns)\n",
    "vis.show()"
   ]
  },
  {
   "cell_type": "code",
   "execution_count": null,
   "id": "e5516686-8632-4d34-9bae-9d6a7c766469",
   "metadata": {},
   "outputs": [],
   "source": [
    "vis.scatter(y_test_norm,pred)\n",
    "vis.show()"
   ]
  },
  {
   "cell_type": "markdown",
   "id": "eeadda55-7235-4605-9c95-78c54770fa5f",
   "metadata": {},
   "source": [
    "### Standartization"
   ]
  },
  {
   "cell_type": "code",
   "execution_count": null,
   "id": "a33edd36-716e-46ce-86dc-c0ef397d93f2",
   "metadata": {},
   "outputs": [],
   "source": [
    "scaler_std = StandardScaler()\n",
    "std_data = scaler_std.fit_transform(data)\n",
    "std_data = pd.DataFrame(std_data, columns = data.columns)\n",
    "std_data.describe().round(2)"
   ]
  },
  {
   "cell_type": "code",
   "execution_count": null,
   "id": "c5f834d8-e7dd-4064-bd5c-b988e6d4e0f3",
   "metadata": {},
   "outputs": [],
   "source": [
    "X_std = std_data[['Year','Selling_Price','Kms_Driven','Diesel','Petrol','Seller_Type','Transmission']]\n",
    "y_std = std_data['Current_price']\n",
    "\n",
    "X_train_std, X_test_std, y_train_std, y_test_std = train_test_split(X_std, y_std, test_size=0.3)"
   ]
  },
  {
   "cell_type": "code",
   "execution_count": null,
   "id": "779dae8e-bd73-4218-9374-d43e45dc246d",
   "metadata": {},
   "outputs": [],
   "source": [
    "lr = LinearRegression()\n",
    "lr.fit(X_train_std, y_train_std)\n",
    "pred_std = lr.predict(X_test_std)\n",
    "score_std=r2_score(y_test_std,pred_std)\n",
    "\n",
    "print(f\"R2 score:{score_std}\") \n",
    "print(f'Mean absolute error is {mean_absolute_error(y_test_std, pred_std)}')"
   ]
  },
  {
   "cell_type": "code",
   "execution_count": null,
   "id": "e901132f-b93a-43c7-889c-3a0ce03bbde7",
   "metadata": {},
   "outputs": [],
   "source": [
    "corr = std_data.corr()\n",
    "fig = vis.figure(figsize=(5,5))\n",
    "ax = fig.add_subplot(111)\n",
    "cax = ax.matshow(corr,cmap='inferno', vmin=-1, vmax=1)\n",
    "fig.colorbar(cax)\n",
    "ticks = np.arange(0,len(std_data.columns),1)\n",
    "ax.set_xticks(ticks)\n",
    "vis.xticks(rotation=90)\n",
    "ax.set_yticks(ticks)\n",
    "ax.set_xticklabels(std_data.columns)\n",
    "ax.set_yticklabels(std_data.columns)\n",
    "vis.show()"
   ]
  },
  {
   "cell_type": "code",
   "execution_count": null,
   "id": "c6b24c84-5610-4b6c-9dde-3ee3520059ba",
   "metadata": {},
   "outputs": [],
   "source": [
    "vis.scatter(y_test_std,pred_std)\n",
    "vis.show()"
   ]
  }
 ],
 "metadata": {
  "kernelspec": {
   "display_name": "Python 3 (ipykernel)",
   "language": "python",
   "name": "python3"
  },
  "language_info": {
   "codemirror_mode": {
    "name": "ipython",
    "version": 3
   },
   "file_extension": ".py",
   "mimetype": "text/x-python",
   "name": "python",
   "nbconvert_exporter": "python",
   "pygments_lexer": "ipython3",
   "version": "3.8.10"
  }
 },
 "nbformat": 4,
 "nbformat_minor": 5
}
